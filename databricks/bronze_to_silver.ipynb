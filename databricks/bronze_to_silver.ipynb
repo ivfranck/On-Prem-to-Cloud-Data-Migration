{
 "cells": [
  {
   "cell_type": "markdown",
   "metadata": {
    "application/vnd.databricks.v1+cell": {
     "cellMetadata": {
      "byteLimit": 2048000,
      "rowLimit": 10000
     },
     "inputWidgets": {},
     "nuid": "63845034-12c8-4539-a4ae-95151c5b5c55",
     "showTitle": false,
     "title": ""
    }
   },
   "source": [
    "# Transforming data from bronze and writing to silver "
   ]
  },
  {
   "cell_type": "code",
   "execution_count": 0,
   "metadata": {
    "application/vnd.databricks.v1+cell": {
     "cellMetadata": {
      "byteLimit": 2048000,
      "rowLimit": 10000
     },
     "inputWidgets": {},
     "nuid": "9111a7d1-d816-42c4-81a8-6c71c9b28bc2",
     "showTitle": false,
     "title": ""
    }
   },
   "outputs": [
    {
     "output_type": "execute_result",
     "data": {
      "text/plain": [
       "[FileInfo(path='dbfs:/mnt/bronze/public/customers/', name='customers/', size=0, modificationTime=1717946581000),\n",
       " FileInfo(path='dbfs:/mnt/bronze/public/orders/', name='orders/', size=0, modificationTime=1717946582000),\n",
       " FileInfo(path='dbfs:/mnt/bronze/public/products/', name='products/', size=0, modificationTime=1717946583000)]"
      ]
     },
     "execution_count": 31,
     "metadata": {},
     "output_type": "execute_result"
    }
   ],
   "source": [
    "dbutils.fs.ls(\"/mnt/bronze/public/\")"
   ]
  },
  {
   "cell_type": "code",
   "execution_count": 0,
   "metadata": {
    "application/vnd.databricks.v1+cell": {
     "cellMetadata": {
      "byteLimit": 2048000,
      "rowLimit": 10000
     },
     "inputWidgets": {},
     "nuid": "d5117715-6ede-4863-844e-6cf785aefe00",
     "showTitle": false,
     "title": ""
    }
   },
   "outputs": [
    {
     "output_type": "execute_result",
     "data": {
      "text/plain": [
       "[]"
      ]
     },
     "execution_count": 32,
     "metadata": {},
     "output_type": "execute_result"
    }
   ],
   "source": [
    "dbutils.fs.ls(\"/mnt/silver/\")"
   ]
  },
  {
   "cell_type": "code",
   "execution_count": 0,
   "metadata": {
    "application/vnd.databricks.v1+cell": {
     "cellMetadata": {
      "byteLimit": 2048000,
      "rowLimit": 10000
     },
     "inputWidgets": {},
     "nuid": "31a9a42d-349d-4c87-84cc-5b1149753902",
     "showTitle": false,
     "title": ""
    }
   },
   "outputs": [
    {
     "output_type": "stream",
     "name": "stdout",
     "output_type": "stream",
     "text": [
      "['customers', 'orders', 'products']\n"
     ]
    }
   ],
   "source": [
    "table_names = [table.name.split('/')[0] for table in dbutils.fs.ls(\"mnt/bronze/public/\")]\n",
    "\n",
    "print(table_names)\n"
   ]
  },
  {
   "cell_type": "code",
   "execution_count": 0,
   "metadata": {
    "application/vnd.databricks.v1+cell": {
     "cellMetadata": {
      "byteLimit": 2048000,
      "rowLimit": 10000
     },
     "inputWidgets": {},
     "nuid": "75fe40a3-667a-49b1-a26b-97f8eccf78e0",
     "showTitle": false,
     "title": ""
    }
   },
   "outputs": [],
   "source": [
    "for table in table_names:\n",
    "    input_path = f\"/mnt/bronze/public/{table}/{table}.parquet\"\n",
    "    df = spark.read.format('parquet').load(input_path)\n",
    "    if table == \"products\":\n",
    "        from pyspark.sql.functions import col\n",
    "        df = df.withColumn(\"price\", col(\"price\") * 1.04)\n",
    "\n",
    "    output_path = f\"/mnt/silver/public/{table}/\"\n",
    "    df.write.format('delta').mode(\"overwrite\").save(output_path)"
   ]
  },
  {
   "cell_type": "code",
   "execution_count": 0,
   "metadata": {
    "application/vnd.databricks.v1+cell": {
     "cellMetadata": {
      "byteLimit": 2048000,
      "rowLimit": 10000
     },
     "inputWidgets": {},
     "nuid": "960da38c-5204-4562-9127-3a15f0c29b02",
     "showTitle": false,
     "title": ""
    }
   },
   "outputs": [
    {
     "output_type": "stream",
     "name": "stdout",
     "output_type": "stream",
     "text": [
      "+----------+--------+\n|product_id|   price|\n+----------+--------+\n|         1|766.9064|\n|         2|351.2704|\n|         3|  555.88|\n|         4|462.5296|\n|         5|999.5024|\n+----------+--------+\nonly showing top 5 rows\n\n"
     ]
    }
   ],
   "source": [
    "df.select(\"product_id\", \"price\").show(5)"
   ]
  }
 ],
 "metadata": {
  "application/vnd.databricks.v1+notebook": {
   "dashboards": [],
   "environmentMetadata": null,
   "language": "python",
   "notebookMetadata": {
    "pythonIndentUnit": 4
   },
   "notebookName": "bronze to silver",
   "widgets": {}
  }
 },
 "nbformat": 4,
 "nbformat_minor": 0
}
