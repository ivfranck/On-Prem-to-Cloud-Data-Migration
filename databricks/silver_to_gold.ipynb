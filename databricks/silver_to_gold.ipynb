{
 "cells": [
  {
   "cell_type": "markdown",
   "metadata": {
    "application/vnd.databricks.v1+cell": {
     "cellMetadata": {
      "byteLimit": 2048000,
      "rowLimit": 10000
     },
     "inputWidgets": {},
     "nuid": "06d8949b-c6ec-4f6e-b919-240e2b4c5bc2",
     "showTitle": false,
     "title": ""
    }
   },
   "source": [
    "# Transforming data from silver and writing to gold "
   ]
  },
  {
   "cell_type": "code",
   "execution_count": 0,
   "metadata": {
    "application/vnd.databricks.v1+cell": {
     "cellMetadata": {
      "byteLimit": 2048000,
      "rowLimit": 10000
     },
     "inputWidgets": {},
     "nuid": "ed087451-09fd-4ca3-be8d-c09469500f8c",
     "showTitle": false,
     "title": ""
    }
   },
   "outputs": [
    {
     "output_type": "execute_result",
     "data": {
      "text/plain": [
       "[FileInfo(path='dbfs:/mnt/silver/public/customers/', name='customers/', size=0, modificationTime=1718021370000),\n",
       " FileInfo(path='dbfs:/mnt/silver/public/orders/', name='orders/', size=0, modificationTime=1718021373000),\n",
       " FileInfo(path='dbfs:/mnt/silver/public/products/', name='products/', size=0, modificationTime=1718021376000)]"
      ]
     },
     "execution_count": 14,
     "metadata": {},
     "output_type": "execute_result"
    }
   ],
   "source": [
    "dbutils.fs.ls(\"mnt/silver/public\")"
   ]
  },
  {
   "cell_type": "code",
   "execution_count": 0,
   "metadata": {
    "application/vnd.databricks.v1+cell": {
     "cellMetadata": {
      "byteLimit": 2048000,
      "rowLimit": 10000
     },
     "inputWidgets": {},
     "nuid": "c9c3dbbd-d641-4fd1-b4e5-dff878365643",
     "showTitle": false,
     "title": ""
    }
   },
   "outputs": [
    {
     "output_type": "stream",
     "name": "stdout",
     "output_type": "stream",
     "text": [
      "['customers', 'orders', 'products']\n"
     ]
    }
   ],
   "source": [
    "table_names = [table.name.split('/')[0] for table in dbutils.fs.ls(\"mnt/silver/public/\")]\n",
    "\n",
    "print(table_names)\n"
   ]
  },
  {
   "cell_type": "code",
   "execution_count": 0,
   "metadata": {
    "application/vnd.databricks.v1+cell": {
     "cellMetadata": {
      "byteLimit": 2048000,
      "rowLimit": 10000
     },
     "inputWidgets": {},
     "nuid": "7e812b3a-55fa-4e27-b9c2-91a255b75b3b",
     "showTitle": false,
     "title": ""
    }
   },
   "outputs": [],
   "source": [
    "for table in table_names:\n",
    "    input_path = f\"/mnt/silver/public/{table}/\"\n",
    "    df = spark.read.format('delta').load(input_path)\n",
    "    if table == \"orders\":\n",
    "        from pyspark.sql.functions import split, col\n",
    "\n",
    "        split_col = split(df['order_date'], '/')\n",
    "\n",
    "        df = df.withColumn('month', split_col.getItem(0)) \\\n",
    "            .withColumn('day', split_col.getItem(1)) \\\n",
    "            .withColumn('year', split_col.getItem(2))\n",
    "\n",
    "    output_path = f\"/mnt/gold/public/{table}/\"\n",
    "    df.write.format('delta').mode(\"overwrite\").save(output_path)"
   ]
  },
  {
   "cell_type": "code",
   "execution_count": 0,
   "metadata": {
    "application/vnd.databricks.v1+cell": {
     "cellMetadata": {},
     "inputWidgets": {},
     "nuid": "51319e5b-4346-4bf0-b209-096ead06d1e0",
     "showTitle": false,
     "title": ""
    }
   },
   "outputs": [],
   "source": []
  }
 ],
 "metadata": {
  "application/vnd.databricks.v1+notebook": {
   "dashboards": [],
   "environmentMetadata": null,
   "language": "python",
   "notebookMetadata": {
    "pythonIndentUnit": 4
   },
   "notebookName": "silver to gold",
   "widgets": {}
  }
 },
 "nbformat": 4,
 "nbformat_minor": 0
}
